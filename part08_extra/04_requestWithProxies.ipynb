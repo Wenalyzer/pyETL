{
 "cells": [
  {
   "cell_type": "code",
   "execution_count": 1,
   "metadata": {},
   "outputs": [],
   "source": [
    "import requests\n",
    "from bs4 import BeautifulSoup\n",
    "import time"
   ]
  },
  {
   "cell_type": "code",
   "execution_count": 2,
   "metadata": {},
   "outputs": [],
   "source": [
    "url = 'https://ifconfig.me'"
   ]
  },
  {
   "cell_type": "code",
   "execution_count": 3,
   "metadata": {},
   "outputs": [],
   "source": [
    "# Set proxies\n",
    "\n",
    "proxies = {\n",
    "    'http': '142.93.72.206:3128',\n",
    "    'https': '222.124.193.113:8080'\n",
    "}"
   ]
  },
  {
   "cell_type": "code",
   "execution_count": 4,
   "metadata": {},
   "outputs": [
    {
     "name": "stdout",
     "output_type": "stream",
     "text": [
      "Request IP: 42.73.177.178\n",
      "\n",
      "Time took: 0.4039647579193115 sec\n"
     ]
    }
   ],
   "source": [
    "# Request without proxies\n",
    "\n",
    "time_start = time.time()\n",
    "\n",
    "res_without_proxies = requests.get(url)\n",
    "\n",
    "time_end = time.time()\n",
    "\n",
    "soup_without_proxies = BeautifulSoup(res_without_proxies.text, 'html.parser')\n",
    "print('Request IP:', soup_without_proxies.prettify())\n",
    "print('Time took:', time_end - time_start, 'sec')"
   ]
  },
  {
   "cell_type": "code",
   "execution_count": 5,
   "metadata": {},
   "outputs": [
    {
     "name": "stdout",
     "output_type": "stream",
     "text": [
      "Request IP: 222.124.193.113\n",
      "\n",
      "Time took: 43.56948781013489 sec\n"
     ]
    }
   ],
   "source": [
    "# Request with proxies\n",
    "\n",
    "time_start = time.time()\n",
    "\n",
    "res_with_proxies = requests.get(url, proxies=proxies)\n",
    "\n",
    "time_end = time.time()\n",
    "\n",
    "soup_with_proxies = BeautifulSoup(res_with_proxies.text, 'html.parser')\n",
    "print('Request IP:', soup_with_proxies.prettify())\n",
    "print('Time took:', time_end - time_start, 'sec')"
   ]
  },
  {
   "cell_type": "code",
   "execution_count": null,
   "metadata": {},
   "outputs": [],
   "source": []
  },
  {
   "cell_type": "code",
   "execution_count": null,
   "metadata": {},
   "outputs": [],
   "source": []
  }
 ],
 "metadata": {
  "kernelspec": {
   "display_name": "Python 3",
   "language": "python",
   "name": "python3"
  },
  "language_info": {
   "codemirror_mode": {
    "name": "ipython",
    "version": 3
   },
   "file_extension": ".py",
   "mimetype": "text/x-python",
   "name": "python",
   "nbconvert_exporter": "python",
   "pygments_lexer": "ipython3",
   "version": "3.7.0"
  }
 },
 "nbformat": 4,
 "nbformat_minor": 2
}
