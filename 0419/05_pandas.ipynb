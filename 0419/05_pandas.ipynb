{
 "cells": [
  {
   "cell_type": "code",
   "execution_count": null,
   "id": "82bbabb1",
   "metadata": {},
   "outputs": [],
   "source": [
    "import pandas as pd\n",
    "from pathlib import Path\n",
    "# get the current path\n",
    "Path.cwd()"
   ]
  },
  {
   "cell_type": "code",
   "execution_count": null,
   "id": "cecd7d25",
   "metadata": {},
   "outputs": [],
   "source": [
    "folder = Path(\"./res_gossiping\")\n",
    "# check if the folder exists\n",
    "print(\"資料夾存在嗎？\", folder.exists())\n",
    "print(\"內容物：\", list(folder.iterdir()) if folder.exists() else \"資料夾不存在\")"
   ]
  },
  {
   "cell_type": "code",
   "execution_count": null,
   "id": "c78c5eda",
   "metadata": {},
   "outputs": [],
   "source": [
    "for article_path in folder.glob(\"*.txt\"):\n",
    "    print(str(article_path))"
   ]
  },
  {
   "cell_type": "code",
   "execution_count": null,
   "id": "b8d213ff",
   "metadata": {},
   "outputs": [],
   "source": [
    "# data = []\n",
    "# for article_path in folder.glob(\"*txt\"):\n",
    "#     with open(article_path, \"r\", encoding=\"utf-8\") as f:\n",
    "#         row = f.read().split(\"---split---\")[1].split(\"\\n\")[1:-1]\n",
    "#         data.append(row)"
   ]
  },
  {
   "cell_type": "code",
   "execution_count": null,
   "id": "6e400acd",
   "metadata": {},
   "outputs": [],
   "source": [
    "data = [\n",
    "    article_path.read_text(encoding=\"utf-8\").split(\"---split---\")[1].split(\"\\n\")[1:-1] \n",
    "    for article_path in folder.glob(\"*.txt\")\n",
    "]\n",
    "\n",
    "data"
   ]
  },
  {
   "cell_type": "code",
   "execution_count": null,
   "id": "356d5e7b",
   "metadata": {},
   "outputs": [],
   "source": [
    "columns = [\n",
    "    \"推\",\n",
    "    \"噓\",\n",
    "    \"分數\",\n",
    "    \"作者\",\n",
    "    \"標題\",\n",
    "    \"時間\",\n",
    "]\n",
    "\n",
    "df = pd.DataFrame(data=data, columns=columns)\n",
    "df"
   ]
  },
  {
   "cell_type": "code",
   "execution_count": null,
   "id": "7ca7ff15",
   "metadata": {},
   "outputs": [],
   "source": []
  }
 ],
 "metadata": {
  "kernelspec": {
   "display_name": "pyETL",
   "language": "python",
   "name": "python3"
  },
  "language_info": {
   "codemirror_mode": {
    "name": "ipython",
    "version": 3
   },
   "file_extension": ".py",
   "mimetype": "text/x-python",
   "name": "python",
   "nbconvert_exporter": "python",
   "pygments_lexer": "ipython3",
   "version": "3.12.10"
  }
 },
 "nbformat": 4,
 "nbformat_minor": 5
}
