{
 "cells": [
  {
   "cell_type": "code",
   "execution_count": 1,
   "metadata": {},
   "outputs": [
    {
     "name": "stdout",
     "output_type": "stream",
     "text": [
      "Collecting jieba\n",
      "  Using cached https://files.pythonhosted.org/packages/71/46/c6f9179f73b818d5827202ad1c4a94e371a29473b7f043b736b4dab6b8cd/jieba-0.39.zip\n",
      "Installing collected packages: jieba\n",
      "  Running setup.py install for jieba ... \u001b[?25ldone\n",
      "\u001b[?25hSuccessfully installed jieba-0.39\n",
      "\u001b[33mYou are using pip version 10.0.1, however version 19.2.3 is available.\n",
      "You should consider upgrading via the 'pip install --upgrade pip' command.\u001b[0m\n"
     ]
    }
   ],
   "source": [
    "!pip install jieba"
   ]
  },
  {
   "cell_type": "code",
   "execution_count": 8,
   "metadata": {},
   "outputs": [],
   "source": [
    "import jieba"
   ]
  },
  {
   "cell_type": "code",
   "execution_count": 9,
   "metadata": {},
   "outputs": [
    {
     "name": "stdout",
     "output_type": "stream",
     "text": [
      "全模式 \n",
      " 大家 | 好 |  |  | 我 | 叫 | 小 | 賀 |  |  | 今年 | 十八 | 歲 |  |  | 今天 | 來 | 國 | 立 | 中央 | 大 | 學 |  |  | 大 | 數 | 據 | 班上 | 課 |  |  | 覺 | 得 | 非常 | 開 | 心\n",
      "\n",
      "精確模式 \n",
      " 大家 | 好 | ， | 我 | 叫 | 小賀 | ， | 今年 | 十八 | 歲 | ， | 今天 | 來國立 | 中央 | 大學 | ， | 大數據 | 班上 | 課 | ， | 覺得 | 非常 | 開心\n",
      "\n",
      "搜尋引擎 \n",
      " 大家 | 好 | ， | 我 | 叫 | 小賀 | ， | 今年 | 十八 | 歲 | ， | 今天 | 來國立 | 中央 | 大學 | ， | 大數據 | 班上 | 課 | ， | 覺得 | 非常 | 開心\n"
     ]
    }
   ],
   "source": [
    "s = '大家好，我叫小賀，今年十八歲，今天來國立中央大學，大數據班上課，覺得非常開心'\n",
    "s1 = jieba.cut(s, cut_all=True)\n",
    "s2 = jieba.cut(s, cut_all=False)\n",
    "s3 = jieba.cut_for_search(s)\n",
    "\n",
    "print('全模式 \\n', ' | '.join(s1))\n",
    "print()\n",
    "print('精確模式 \\n', ' | '.join(s2))\n",
    "print()\n",
    "\n",
    "print('搜尋引擎 \\n', ' | '.join(s3))"
   ]
  },
  {
   "cell_type": "code",
   "execution_count": 10,
   "metadata": {},
   "outputs": [
    {
     "name": "stdout",
     "output_type": "stream",
     "text": [
      "大家 | 好 | ， | 我 | 叫 | 小賀 | ， | 今年 | 十八 | 歲 | ， | 今天 | 來國立 | 中央 | 大學 | ， | 大數據 | 班上 | 課 | ， | 覺得 | 非常 | 開心\n"
     ]
    }
   ],
   "source": [
    "s4 = jieba.cut(s)\n",
    "print(' | '.join(s4))"
   ]
  },
  {
   "cell_type": "code",
   "execution_count": 11,
   "metadata": {},
   "outputs": [],
   "source": [
    "jieba.load_userdict('./userdict.txt')"
   ]
  },
  {
   "cell_type": "code",
   "execution_count": 12,
   "metadata": {},
   "outputs": [
    {
     "name": "stdout",
     "output_type": "stream",
     "text": [
      "全模式 \n",
      " 大家 | 好 |  |  | 我 | 叫 | 小 | 賀 |  |  | 今年 | 十八 | 歲 |  |  | 今天 | 來 | 國 | 立 | 中央 | 中央大學 |  |  | 大數據班 | 班上 | 課 |  |  | 覺 | 得 | 非常 | 開 | 心\n",
      "\n",
      "精確模式 \n",
      " 大家 | 好 | ， | 我 | 叫 | 小賀 | ， | 今年 | 十八 | 歲 | ， | 今天 | 來國立 | 中央大學 | ， | 大數據班 | 上課 | ， | 覺得 | 非常 | 開心\n",
      "\n",
      "搜尋引擎 \n",
      " 大家 | 好 | ， | 我 | 叫 | 小賀 | ， | 今年 | 十八 | 歲 | ， | 今天 | 來國立 | 中央 | 中央大學 | ， | 大數據班 | 上課 | ， | 覺得 | 非常 | 開心\n"
     ]
    }
   ],
   "source": [
    "s = '大家好，我叫小賀，今年十八歲，今天來國立中央大學，大數據班上課，覺得非常開心'\n",
    "s1 = jieba.cut(s, cut_all=True)\n",
    "s2 = jieba.cut(s, cut_all=False)\n",
    "s3 = jieba.cut_for_search(s)\n",
    "\n",
    "print('全模式 \\n', ' | '.join(s1))\n",
    "print()\n",
    "print('精確模式 \\n', ' | '.join(s2))\n",
    "print()\n",
    "\n",
    "print('搜尋引擎 \\n', ' | '.join(s3))"
   ]
  },
  {
   "cell_type": "code",
   "execution_count": 15,
   "metadata": {},
   "outputs": [
    {
     "data": {
      "text/plain": [
       "['，\\n', '叫']"
      ]
     },
     "execution_count": 15,
     "metadata": {},
     "output_type": "execute_result"
    }
   ],
   "source": [
    "stop_word_list = []\n",
    "with open('./stopword.txt', 'r', encoding = 'utf-8') as f:\n",
    "    for w in f.readlines():\n",
    "        stop_word_list.append(w)\n",
    "stop_word_list"
   ]
  },
  {
   "cell_type": "code",
   "execution_count": 16,
   "metadata": {},
   "outputs": [
    {
     "data": {
      "text/plain": [
       "'大家 好 ， 我 小賀 ， 今年 十八 歲 ， 今天 來國立 中央大學 ， 大數據班 上課 ， 覺得 非常 開心 '"
      ]
     },
     "execution_count": 16,
     "metadata": {},
     "output_type": "execute_result"
    }
   ],
   "source": [
    "s2 = jieba.cut(s)\n",
    "cut_str = ''\n",
    "for w in ' | '.join(s2).split(' | '):\n",
    "    if w not in stop_word_list:\n",
    "        cut_str += w + ' '\n",
    "cut_str"
   ]
  },
  {
   "cell_type": "code",
   "execution_count": null,
   "metadata": {},
   "outputs": [],
   "source": []
  }
 ],
 "metadata": {
  "kernelspec": {
   "display_name": "Python 3",
   "language": "python",
   "name": "python3"
  },
  "language_info": {
   "codemirror_mode": {
    "name": "ipython",
    "version": 3
   },
   "file_extension": ".py",
   "mimetype": "text/x-python",
   "name": "python",
   "nbconvert_exporter": "python",
   "pygments_lexer": "ipython3",
   "version": "3.7.0"
  }
 },
 "nbformat": 4,
 "nbformat_minor": 2
}
