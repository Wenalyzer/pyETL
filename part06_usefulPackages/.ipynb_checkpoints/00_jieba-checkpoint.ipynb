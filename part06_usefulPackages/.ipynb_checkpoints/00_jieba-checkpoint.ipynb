{
 "cells": [
  {
   "cell_type": "code",
   "execution_count": 1,
   "metadata": {},
   "outputs": [
    {
     "name": "stderr",
     "output_type": "stream",
     "text": [
      "Building prefix dict from the default dictionary ...\n",
      "Loading model from cache /var/folders/mv/f_rwkh453m35xyxc6ms0wkt40000gn/T/jieba.cache\n",
      "Loading model cost 0.845 seconds.\n",
      "Prefix dict has been built succesfully.\n"
     ]
    },
    {
     "name": "stdout",
     "output_type": "stream",
     "text": [
      "全模式:  你好 |  |  | 我 | 叫 | 小 | 賀 |  |  | 今天 | 去 | 國 | 立 | 中央 | 大 | 學 | 上 | 課 |  |  | 感 | 覺 | 非常 | 開 | 心\n",
      "精確模式:  你好 | ， | 我 | 叫 | 小賀 | ， | 今天 | 去 | 國立 | 中央 | 大學 | 上 | 課 | ， | 感覺 | 非常 | 開心\n",
      "預設模式:  你好 | ， | 我 | 叫 | 小賀 | ， | 今天 | 去 | 國立 | 中央 | 大學 | 上 | 課 | ， | 感覺 | 非常 | 開心\n",
      "搜尋引擎模式:  你好 | ， | 我 | 叫 | 小賀 | ， | 今天 | 去 | 國立 | 中央 | 大學 | 上 | 課 | ， | 感覺 | 非常 | 開心\n"
     ]
    }
   ],
   "source": [
    "'''\n",
    "\n",
    "Jieba基本功能\n",
    "\n",
    "'''\n",
    "\n",
    "import jieba\n",
    "\n",
    "s = '你好，我叫小賀，今天去國立中央大學上課，感覺非常開心'\n",
    "\n",
    "s1_list = jieba.cut(s, cut_all = True)\n",
    "s2_list = jieba.cut(s, cut_all = False)\n",
    "s3_list = jieba.cut(s)\n",
    "s4_list = jieba.cut_for_search(s)\n",
    "\n",
    "print('全模式: ', ' | '.join(s1_list))\n",
    "print('精確模式: ', ' | '.join(s2_list))\n",
    "print('預設模式: ', ' | '.join(s3_list))\n",
    "print('搜尋引擎模式: ', ' | '.join(s4_list))"
   ]
  },
  {
   "cell_type": "code",
   "execution_count": 5,
   "metadata": {},
   "outputs": [
    {
     "name": "stdout",
     "output_type": "stream",
     "text": [
      "全模式:  你好 |  |  | 我 | 叫 | 小 | 賀 |  |  | 今天 | 去 | 國立中央大學 | 中央 | 中央大學 | 上 | 課 |  |  | 感 | 覺 | 非常 | 開 | 心\n",
      "精確模式:  你好 | ， | 我 | 叫 | 小賀 | ， | 今天 | 去 | 國立中央大學 | 上課 | ， | 感覺 | 非常 | 開心\n",
      "預設模式:  你好 | ， | 我 | 叫 | 小賀 | ， | 今天 | 去 | 國立中央大學 | 上課 | ， | 感覺 | 非常 | 開心\n",
      "搜尋引擎模式:  你好 | ， | 我 | 叫 | 小賀 | ， | 今天 | 去 | 中央 | 國立中央大學 | 上課 | ， | 感覺 | 非常 | 開心\n"
     ]
    }
   ],
   "source": [
    "import jieba\n",
    "\n",
    "jieba.load_userdict('./mydict.txt')\n",
    "\n",
    "s = '你好，我叫小賀，今天去國立中央大學上課，感覺非常開心'\n",
    "\n",
    "s1_list = jieba.cut(s, cut_all = True)\n",
    "s2_list = jieba.cut(s, cut_all = False)\n",
    "s3_list = jieba.cut(s)\n",
    "s4_list = jieba.cut_for_search(s)\n",
    "\n",
    "print('全模式: ', ' | '.join(s1_list))\n",
    "print('精確模式: ', ' | '.join(s2_list))\n",
    "print('預設模式: ', ' | '.join(s3_list))\n",
    "print('搜尋引擎模式: ', ' | '.join(s4_list))"
   ]
  }
 ],
 "metadata": {
  "kernelspec": {
   "display_name": "Python 3",
   "language": "python",
   "name": "python3"
  },
  "language_info": {
   "codemirror_mode": {
    "name": "ipython",
    "version": 3
   },
   "file_extension": ".py",
   "mimetype": "text/x-python",
   "name": "python",
   "nbconvert_exporter": "python",
   "pygments_lexer": "ipython3",
   "version": "3.7.0"
  }
 },
 "nbformat": 4,
 "nbformat_minor": 1
}
